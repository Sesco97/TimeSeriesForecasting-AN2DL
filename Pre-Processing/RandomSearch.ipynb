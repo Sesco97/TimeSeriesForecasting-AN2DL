{
 "cells": [
  {
   "cell_type": "markdown",
   "metadata": {
    "id": "tb7jIetVdcD-"
   },
   "source": [
    "# AN2DL - Second Challenge"
   ]
  },
  {
   "cell_type": "markdown",
   "metadata": {
    "id": "TNfTbUgCdcEB"
   },
   "source": [
    "## Initial Operations"
   ]
  },
  {
   "cell_type": "markdown",
   "metadata": {
    "id": "jGo6XWkRdcEC"
   },
   "source": [
    "### Import Libraries"
   ]
  },
  {
   "cell_type": "code",
   "execution_count": 1,
   "metadata": {
    "_cell_guid": "58b5be80-fbd6-4bb4-b023-b36ca0cf0c94",
    "_uuid": "45ccbb4f-78f7-4db5-ba6b-ae04090a2caf",
    "execution": {
     "iopub.execute_input": "2021-12-14T10:22:13.109255Z",
     "iopub.status.busy": "2021-12-14T10:22:13.108362Z",
     "iopub.status.idle": "2021-12-14T10:22:20.267145Z",
     "shell.execute_reply": "2021-12-14T10:22:20.266213Z",
     "shell.execute_reply.started": "2021-12-14T10:22:13.109154Z"
    },
    "id": "HdpjL0fddcED",
    "jupyter": {
     "outputs_hidden": false
    }
   },
   "outputs": [],
   "source": [
    "import tensorflow as tf\n",
    "import numpy as np\n",
    "import os\n",
    "import random\n",
    "import pandas as pd\n",
    "import seaborn as sns\n",
    "from sklearn.metrics import mean_squared_error\n",
    "from datetime import datetime\n",
    "import matplotlib.pyplot as plt\n",
    "plt.rc('font', size=16)\n",
    "from sklearn.preprocessing import MinMaxScaler\n",
    "import warnings\n",
    "warnings.filterwarnings('ignore')\n",
    "tf.get_logger().setLevel('ERROR')\n",
    "\n",
    "tfk = tf.keras\n",
    "tfkl = tf.keras.layers"
   ]
  },
  {
   "cell_type": "markdown",
   "metadata": {
    "id": "UY8KpAX8dcEF"
   },
   "source": [
    "### Set Seed"
   ]
  },
  {
   "cell_type": "code",
   "execution_count": 2,
   "metadata": {
    "execution": {
     "iopub.execute_input": "2021-12-14T10:24:12.942558Z",
     "iopub.status.busy": "2021-12-14T10:24:12.942241Z",
     "iopub.status.idle": "2021-12-14T10:24:12.948677Z",
     "shell.execute_reply": "2021-12-14T10:24:12.948Z",
     "shell.execute_reply.started": "2021-12-14T10:24:12.942524Z"
    },
    "id": "er5xUAYzdcEF"
   },
   "outputs": [],
   "source": [
    "seed = 69\n",
    "random.seed(seed)\n",
    "os.environ['PYTHONHASHSEED'] = str(seed)\n",
    "np.random.seed(seed)\n",
    "tf.random.set_seed(seed)\n",
    "tf.compat.v1.set_random_seed(seed)"
   ]
  },
  {
   "cell_type": "markdown",
   "metadata": {
    "id": "foe6HItgdcEG"
   },
   "source": [
    "### Load the dataset"
   ]
  },
  {
   "cell_type": "code",
   "execution_count": 3,
   "metadata": {
    "colab": {
     "base_uri": "https://localhost:8080/",
     "height": 224
    },
    "execution": {
     "iopub.execute_input": "2021-12-14T10:25:48.449528Z",
     "iopub.status.busy": "2021-12-14T10:25:48.448823Z",
     "iopub.status.idle": "2021-12-14T10:25:48.688691Z",
     "shell.execute_reply": "2021-12-14T10:25:48.687699Z",
     "shell.execute_reply.started": "2021-12-14T10:25:48.449481Z"
    },
    "executionInfo": {
     "elapsed": 354,
     "status": "ok",
     "timestamp": 1642795963279,
     "user": {
      "displayName": "Michele Russo",
      "photoUrl": "https://lh3.googleusercontent.com/a-/AOh14GhyAOV7v4rD3SsSLhmGKIAPUCp5S_U_b_Max0XoRw=s64",
      "userId": "05058015320206708993"
     },
     "user_tz": -60
    },
    "id": "0VXOPueFdcEG",
    "outputId": "202ae5e3-ed1e-4f24-b524-90e57b48c9a1"
   },
   "outputs": [
    {
     "name": "stdout",
     "output_type": "stream",
     "text": [
      "(68528, 7)\n"
     ]
    },
    {
     "data": {
      "text/html": [
       "<div>\n",
       "<style scoped>\n",
       "    .dataframe tbody tr th:only-of-type {\n",
       "        vertical-align: middle;\n",
       "    }\n",
       "\n",
       "    .dataframe tbody tr th {\n",
       "        vertical-align: top;\n",
       "    }\n",
       "\n",
       "    .dataframe thead th {\n",
       "        text-align: right;\n",
       "    }\n",
       "</style>\n",
       "<table border=\"1\" class=\"dataframe\">\n",
       "  <thead>\n",
       "    <tr style=\"text-align: right;\">\n",
       "      <th></th>\n",
       "      <th>Sponginess</th>\n",
       "      <th>Wonder level</th>\n",
       "      <th>Crunchiness</th>\n",
       "      <th>Loudness on impact</th>\n",
       "      <th>Meme creativity</th>\n",
       "      <th>Soap slipperiness</th>\n",
       "      <th>Hype root</th>\n",
       "    </tr>\n",
       "  </thead>\n",
       "  <tbody>\n",
       "    <tr>\n",
       "      <th>0</th>\n",
       "      <td>7.97698</td>\n",
       "      <td>4.33494</td>\n",
       "      <td>10.67282</td>\n",
       "      <td>1.76692</td>\n",
       "      <td>3.22440</td>\n",
       "      <td>51.681460</td>\n",
       "      <td>3.65434</td>\n",
       "    </tr>\n",
       "    <tr>\n",
       "      <th>1</th>\n",
       "      <td>8.07824</td>\n",
       "      <td>4.44616</td>\n",
       "      <td>10.56160</td>\n",
       "      <td>1.70716</td>\n",
       "      <td>3.32566</td>\n",
       "      <td>51.563598</td>\n",
       "      <td>3.47672</td>\n",
       "    </tr>\n",
       "    <tr>\n",
       "      <th>2</th>\n",
       "      <td>8.02844</td>\n",
       "      <td>4.22372</td>\n",
       "      <td>10.56160</td>\n",
       "      <td>1.64906</td>\n",
       "      <td>3.17460</td>\n",
       "      <td>50.863080</td>\n",
       "      <td>3.47672</td>\n",
       "    </tr>\n",
       "    <tr>\n",
       "      <th>3</th>\n",
       "      <td>8.02844</td>\n",
       "      <td>4.22372</td>\n",
       "      <td>10.56160</td>\n",
       "      <td>1.70716</td>\n",
       "      <td>3.17460</td>\n",
       "      <td>45.841581</td>\n",
       "      <td>3.47672</td>\n",
       "    </tr>\n",
       "    <tr>\n",
       "      <th>4</th>\n",
       "      <td>7.87572</td>\n",
       "      <td>4.44616</td>\n",
       "      <td>10.45038</td>\n",
       "      <td>1.70716</td>\n",
       "      <td>3.27586</td>\n",
       "      <td>47.126421</td>\n",
       "      <td>3.47672</td>\n",
       "    </tr>\n",
       "  </tbody>\n",
       "</table>\n",
       "</div>"
      ],
      "text/plain": [
       "   Sponginess  Wonder level  Crunchiness  Loudness on impact  Meme creativity  \\\n",
       "0     7.97698       4.33494     10.67282             1.76692          3.22440   \n",
       "1     8.07824       4.44616     10.56160             1.70716          3.32566   \n",
       "2     8.02844       4.22372     10.56160             1.64906          3.17460   \n",
       "3     8.02844       4.22372     10.56160             1.70716          3.17460   \n",
       "4     7.87572       4.44616     10.45038             1.70716          3.27586   \n",
       "\n",
       "   Soap slipperiness  Hype root  \n",
       "0          51.681460    3.65434  \n",
       "1          51.563598    3.47672  \n",
       "2          50.863080    3.47672  \n",
       "3          45.841581    3.47672  \n",
       "4          47.126421    3.47672  "
      ]
     },
     "execution_count": 3,
     "metadata": {},
     "output_type": "execute_result"
    }
   ],
   "source": [
    "dataset = pd.read_csv('../Data/training.csv')\n",
    "print(dataset.shape)\n",
    "dataset.head()"
   ]
  },
  {
   "cell_type": "markdown",
   "metadata": {
    "id": "B-U_c8LHdcEI"
   },
   "source": [
    "### Train-Test Split and Normalization"
   ]
  },
  {
   "cell_type": "code",
   "execution_count": 4,
   "metadata": {
    "execution": {
     "iopub.execute_input": "2021-12-14T10:38:54.807863Z",
     "iopub.status.busy": "2021-12-14T10:38:54.807559Z",
     "iopub.status.idle": "2021-12-14T10:38:55.314326Z",
     "shell.execute_reply": "2021-12-14T10:38:55.313429Z",
     "shell.execute_reply.started": "2021-12-14T10:38:54.807833Z"
    },
    "id": "K1lBU98HdcEI"
   },
   "outputs": [],
   "source": [
    "X_train_raw = dataset.iloc[:-1000]\n",
    "X_test = dataset.iloc[-1000:]\n",
    "\n",
    "# Normalize train samples\n",
    "X_min = X_train_raw.min()\n",
    "X_max = X_train_raw.max()\n",
    "X_train_raw = (X_train_raw-X_min)/(X_max-X_min)"
   ]
  },
  {
   "cell_type": "code",
   "execution_count": 6,
   "metadata": {},
   "outputs": [
    {
     "name": "stdout",
     "output_type": "stream",
     "text": [
      "(67528, 7)\n",
      "(1000, 7)\n"
     ]
    }
   ],
   "source": [
    "print(X_train_raw.shape) \n",
    "print(X_test.shape)"
   ]
  },
  {
   "cell_type": "markdown",
   "metadata": {
    "id": "aIznfP-JnkOs"
   },
   "source": [
    "## Model"
   ]
  },
  {
   "cell_type": "markdown",
   "metadata": {
    "id": "lyVViS7qnqGK"
   },
   "source": [
    "### Utility Function to Define Sequences"
   ]
  },
  {
   "cell_type": "code",
   "execution_count": null,
   "metadata": {
    "execution": {
     "iopub.execute_input": "2021-12-14T10:39:15.184927Z",
     "iopub.status.busy": "2021-12-14T10:39:15.18458Z",
     "iopub.status.idle": "2021-12-14T10:39:15.195572Z",
     "shell.execute_reply": "2021-12-14T10:39:15.194818Z",
     "shell.execute_reply.started": "2021-12-14T10:39:15.184895Z"
    },
    "id": "bGhtbWCNdcEK"
   },
   "outputs": [],
   "source": [
    "def build_sequences(df, target_labels, window, stride, telescope):\n",
    "    \n",
    "    # Sanity check to avoid runtime errors\n",
    "    assert window % stride == 0\n",
    "    dataset = []\n",
    "    labels = []\n",
    "    temp_df = df.copy().values\n",
    "    temp_label = df[target_labels].copy().values\n",
    "    padding_len = len(df)%window\n",
    "\n",
    "    if(padding_len != 0):\n",
    "        # Compute padding length\n",
    "        padding_len = window - len(df)%window\n",
    "        padding = np.zeros((padding_len,temp_df.shape[1]), dtype='float64')\n",
    "        temp_df = np.concatenate((padding,df))\n",
    "        padding = np.zeros((padding_len,temp_label.shape[1]), dtype='float64')\n",
    "        temp_label = np.concatenate((padding,temp_label))\n",
    "        assert len(temp_df) % window == 0\n",
    "\n",
    "    for idx in np.arange(0,len(temp_df)-window-telescope,stride):\n",
    "        dataset.append(temp_df[idx:idx+window])\n",
    "        labels.append(temp_label[idx+window:idx+window+telescope])\n",
    "\n",
    "    dataset = np.array(dataset)\n",
    "    labels = np.array(labels)\n",
    "    return dataset, labels"
   ]
  },
  {
   "cell_type": "markdown",
   "metadata": {
    "id": "uU5jIHeyn1bU"
   },
   "source": [
    "### Utility Function to Define Model Based on Hyperparameters"
   ]
  },
  {
   "cell_type": "code",
   "execution_count": null,
   "metadata": {
    "execution": {
     "iopub.execute_input": "2021-12-14T10:42:44.394798Z",
     "iopub.status.busy": "2021-12-14T10:42:44.393212Z",
     "iopub.status.idle": "2021-12-14T10:42:44.40638Z",
     "shell.execute_reply": "2021-12-14T10:42:44.405323Z",
     "shell.execute_reply.started": "2021-12-14T10:42:44.39475Z"
    },
    "id": "XAxF0oGSdcEO"
   },
   "outputs": [],
   "source": [
    "def build_model(input_shape, output_shape):\n",
    "    \n",
    "    # Build the neural network layer by layer\n",
    "    input_layer = tfkl.Input(shape=input_shape, name='Input')\n",
    "\n",
    "    layer = tfkl.Bidirectional(tfkl.GRU(64, return_sequences=True, name='GRU1'),name='Bidirectional1')(input_layer)\n",
    "    layer = tfkl.Conv1D(64, 3, padding='same', activation='relu', name='Convolution1')(layer)\n",
    "    layer = tfkl.MaxPool1D(name='MaxPooling1')(layer)\n",
    "    layer = tfkl.Bidirectional(tfkl.GRU(128, return_sequences=True, name='GRU2'), name='Bidirectional2')(layer)\n",
    "    layer = tfkl.Conv1D(128, 6, padding='same', activation='relu', name='Convolutional2')(layer)\n",
    "    layer = tfkl.MaxPool1D(name='MaxPooling2')(layer)\n",
    "    layer = tfkl.Bidirectional(tfkl.GRU(256, return_sequences=True, name='GRU3'), name='Bidirectional3')(layer)\n",
    "    layer = tfkl.Conv1D(256, 12, padding='same', activation='relu', name='Convolutional3')(layer)\n",
    "    layer = tfkl.GlobalAveragePooling1D(name='GlobalAveragePooling')(layer)\n",
    "    layer = tfkl.Dropout(.25, name='Dropout')(layer)\n",
    "    dense = tfkl.Dense(output_shape[-1]*output_shape[-2], activation='relu', name='Dense')(layer)\n",
    "    output_layer = tfkl.Reshape((output_shape[-2],output_shape[-1]), name='Reshape')(dense)\n",
    "    output_layer = tfkl.Conv1D(output_shape[-1], 1, padding='same', name='Output')(output_layer)\n",
    "\n",
    "    # Connect input and output through the Model class\n",
    "    model = tfk.Model(inputs=input_layer, outputs=output_layer, name='model')\n",
    "\n",
    "    # Compile the model\n",
    "    model.compile(loss=tfk.losses.MeanSquaredError(), optimizer=tfk.optimizers.Adam(), metrics=['mae'])\n",
    "\n",
    "    # Return the model\n",
    "    return model"
   ]
  },
  {
   "cell_type": "markdown",
   "metadata": {
    "id": "mJYUHmRE3UEA"
   },
   "source": [
    "### Utility Function to Predict the Future"
   ]
  },
  {
   "cell_type": "code",
   "execution_count": null,
   "metadata": {
    "id": "MLXFtYrS3YYZ"
   },
   "outputs": [],
   "source": [
    "def predict_future(df,window,telescope,pred_horizon):\n",
    "    \n",
    "  # Autoregressive Forecasting\n",
    "  X = tf.constant(df)\n",
    "  X = X.numpy()\n",
    "  future = X[-window:]\n",
    "  X_min = X.min(axis=0)\n",
    "  X_max = X.max(axis=0)\n",
    "  future = (future-X_min)/(X_max-X_min)\n",
    "  future = np.expand_dims(future,0)\n",
    "  out = np.array([])\n",
    "  for i in range(0, pred_horizon, telescope):\n",
    "      current_prediction = model.predict(future)\n",
    "      if(len(out) == 0):\n",
    "          out = current_prediction\n",
    "      else:\n",
    "          out = np.concatenate((out,current_prediction),axis=1)\n",
    "      future = np.concatenate((future[:,telescope:,:],current_prediction), axis=1)\n",
    "  out = np.squeeze(out,0)\n",
    "  out = out * (X_max - X_min) + X_min\n",
    "  out = out[:pred_horizon]\n",
    "  return out"
   ]
  },
  {
   "cell_type": "markdown",
   "metadata": {
    "id": "gmuE1Sq206x2"
   },
   "source": [
    "### Hyperparameters Search"
   ]
  },
  {
   "cell_type": "code",
   "execution_count": null,
   "metadata": {
    "id": "QMU09rcdQhtW"
   },
   "outputs": [],
   "source": [
    "W = [50,100,200,300,400,500]\n",
    "S = [5,10,25]\n",
    "T = [27,36,48,54,108,216,432]\n",
    "\n",
    "target_labels = dataset.columns\n",
    "rmse_list = []\n",
    "for i in range(20):\n",
    "    print(\"Iteration: \",i)\n",
    "    \n",
    "    # Build the training data\n",
    "    window = random.choice(W)\n",
    "    stride = int(window / random.choice(S))\n",
    "    telescope = random.choice(T)\n",
    "    X_train, y_train = build_sequences(X_train_raw, target_labels, window, stride, telescope)\n",
    "    input_shape = X_train.shape[1:]\n",
    "    output_shape = y_train.shape[1:]\n",
    "    print(\"Parameters: \",[window, stride, telescope])\n",
    "    \n",
    "    # Build the model\n",
    "    model = build_model(input_shape, output_shape)\n",
    "    \n",
    "    # Train the model\n",
    "    batch_size = 64\n",
    "    epochs = 20\n",
    "    model.fit(\n",
    "      x = X_train,\n",
    "      y = y_train,\n",
    "      batch_size = batch_size,\n",
    "      epochs = epochs\n",
    "    )\n",
    "    \n",
    "    # Evaluate performance on test set\n",
    "    out = predict_future(dataset.iloc[:-1000],window,telescope,1000)\n",
    "    rmse = mean_squared_error(tf.constant(X_test).numpy(), out, multioutput='uniform_average', squared=True)\n",
    "    rmse_list.append(rmse)\n",
    "    print(\"RMSE: \",rmse)"
   ]
  },
  {
   "cell_type": "code",
   "execution_count": null,
   "metadata": {
    "id": "7ouSr2Ur6HTJ"
   },
   "outputs": [],
   "source": [
    "val, idx = min((val, idx) for (idx, val) in enumerate(rmse_list))\n",
    "print(idx,val)"
   ]
  }
 ],
 "metadata": {
  "accelerator": "GPU",
  "colab": {
   "collapsed_sections": [],
   "name": "RandomSearch.ipynb",
   "provenance": []
  },
  "kernelspec": {
   "display_name": "Python 3 (ipykernel)",
   "language": "python",
   "name": "python3"
  },
  "language_info": {
   "codemirror_mode": {
    "name": "ipython",
    "version": 3
   },
   "file_extension": ".py",
   "mimetype": "text/x-python",
   "name": "python",
   "nbconvert_exporter": "python",
   "pygments_lexer": "ipython3",
   "version": "3.8.3"
  }
 },
 "nbformat": 4,
 "nbformat_minor": 1
}
