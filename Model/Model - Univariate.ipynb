{
 "cells": [
  {
   "cell_type": "markdown",
   "metadata": {
    "id": "5b74c74d",
    "papermill": {
     "duration": 0.017674,
     "end_time": "2021-12-28T14:15:51.831579",
     "exception": false,
     "start_time": "2021-12-28T14:15:51.813905",
     "status": "completed"
    },
    "tags": []
   },
   "source": [
    "# AN2DL - Second Challenge"
   ]
  },
  {
   "cell_type": "markdown",
   "metadata": {
    "id": "ae6f384c",
    "papermill": {
     "duration": 0.015521,
     "end_time": "2021-12-28T14:15:51.896157",
     "exception": false,
     "start_time": "2021-12-28T14:15:51.880636",
     "status": "completed"
    },
    "tags": []
   },
   "source": [
    "## Initial Operations"
   ]
  },
  {
   "cell_type": "markdown",
   "metadata": {
    "id": "705b37d8",
    "papermill": {
     "duration": 0.015357,
     "end_time": "2021-12-28T14:15:51.927023",
     "exception": false,
     "start_time": "2021-12-28T14:15:51.911666",
     "status": "completed"
    },
    "tags": []
   },
   "source": [
    "### Import the libraries"
   ]
  },
  {
   "cell_type": "code",
   "execution_count": null,
   "metadata": {
    "_cell_guid": "b1076dfc-b9ad-4769-8c92-a6c4dae69d19",
    "_uuid": "8f2839f25d086af736a60e9eeb907d3b93b6e0e5",
    "execution": {
     "iopub.execute_input": "2022-01-15T08:41:42.055252Z",
     "iopub.status.busy": "2022-01-15T08:41:42.054527Z",
     "iopub.status.idle": "2022-01-15T08:41:47.653079Z",
     "shell.execute_reply": "2022-01-15T08:41:47.652337Z",
     "shell.execute_reply.started": "2022-01-15T08:41:42.055149Z"
    },
    "executionInfo": {
     "elapsed": 8,
     "status": "ok",
     "timestamp": 1642797532594,
     "user": {
      "displayName": "Michele Russo",
      "photoUrl": "https://lh3.googleusercontent.com/a-/AOh14GhyAOV7v4rD3SsSLhmGKIAPUCp5S_U_b_Max0XoRw=s64",
      "userId": "05058015320206708993"
     },
     "user_tz": -60
    },
    "id": "tqDuVRE1Wla0"
   },
   "outputs": [],
   "source": [
    "import tensorflow as tf\n",
    "import numpy as np\n",
    "import os\n",
    "import random\n",
    "import pandas as pd\n",
    "import seaborn as sns\n",
    "from datetime import datetime\n",
    "import matplotlib.pyplot as plt\n",
    "plt.rc('font', size=16)\n",
    "from sklearn.preprocessing import MinMaxScaler\n",
    "from statsmodels.tsa.seasonal import seasonal_decompose\n",
    "import warnings\n",
    "warnings.filterwarnings('ignore')\n",
    "tf.get_logger().setLevel('ERROR')\n",
    "\n",
    "tfk = tf.keras\n",
    "tfkl = tf.keras.layers"
   ]
  },
  {
   "cell_type": "markdown",
   "metadata": {
    "id": "62cee828",
    "papermill": {
     "duration": 0.015443,
     "end_time": "2021-12-28T14:15:57.633707",
     "exception": false,
     "start_time": "2021-12-28T14:15:57.618264",
     "status": "completed"
    },
    "tags": []
   },
   "source": [
    "### Set seed for reproducibility"
   ]
  },
  {
   "cell_type": "code",
   "execution_count": null,
   "metadata": {
    "execution": {
     "iopub.execute_input": "2022-01-15T08:41:47.656556Z",
     "iopub.status.busy": "2022-01-15T08:41:47.656345Z",
     "iopub.status.idle": "2022-01-15T08:41:47.665421Z",
     "shell.execute_reply": "2022-01-15T08:41:47.663219Z",
     "shell.execute_reply.started": "2022-01-15T08:41:47.656531Z"
    },
    "executionInfo": {
     "elapsed": 8,
     "status": "ok",
     "timestamp": 1642797532595,
     "user": {
      "displayName": "Michele Russo",
      "photoUrl": "https://lh3.googleusercontent.com/a-/AOh14GhyAOV7v4rD3SsSLhmGKIAPUCp5S_U_b_Max0XoRw=s64",
      "userId": "05058015320206708993"
     },
     "user_tz": -60
    },
    "id": "WlH8b-R0Wla3"
   },
   "outputs": [],
   "source": [
    "seed = 69\n",
    "random.seed(seed)\n",
    "os.environ['PYTHONHASHSEED'] = str(seed)\n",
    "np.random.seed(seed)\n",
    "tf.random.set_seed(seed)\n",
    "tf.compat.v1.set_random_seed(seed)"
   ]
  },
  {
   "cell_type": "markdown",
   "metadata": {},
   "source": [
    "### Load dataset"
   ]
  },
  {
   "cell_type": "code",
   "execution_count": null,
   "metadata": {
    "colab": {
     "base_uri": "https://localhost:8080/",
     "height": 224
    },
    "execution": {
     "iopub.execute_input": "2022-01-15T08:41:50.540478Z",
     "iopub.status.busy": "2022-01-15T08:41:50.539828Z",
     "iopub.status.idle": "2022-01-15T08:41:50.761605Z",
     "shell.execute_reply": "2022-01-15T08:41:50.760905Z",
     "shell.execute_reply.started": "2022-01-15T08:41:50.54044Z"
    },
    "executionInfo": {
     "elapsed": 982,
     "status": "ok",
     "timestamp": 1642797533570,
     "user": {
      "displayName": "Michele Russo",
      "photoUrl": "https://lh3.googleusercontent.com/a-/AOh14GhyAOV7v4rD3SsSLhmGKIAPUCp5S_U_b_Max0XoRw=s64",
      "userId": "05058015320206708993"
     },
     "user_tz": -60
    },
    "id": "mOC_LAHHWla4",
    "outputId": "df192e7b-5ad4-4e7c-e13b-a13cae19d443"
   },
   "outputs": [],
   "source": [
    "dataset = pd.read_csv('../Data/training.csv')\n",
    "print(dataset.shape)\n",
    "dataset.head()"
   ]
  },
  {
   "cell_type": "markdown",
   "metadata": {
    "id": "1f40f1c0",
    "papermill": {
     "duration": 0.021569,
     "end_time": "2021-12-28T14:15:58.925455",
     "exception": false,
     "start_time": "2021-12-28T14:15:58.903886",
     "status": "completed"
    },
    "tags": []
   },
   "source": [
    "## Model"
   ]
  },
  {
   "cell_type": "markdown",
   "metadata": {
    "id": "9101fe28",
    "papermill": {
     "duration": 0.02095,
     "end_time": "2021-12-28T14:15:58.967577",
     "exception": false,
     "start_time": "2021-12-28T14:15:58.946627",
     "status": "completed"
    },
    "tags": []
   },
   "source": [
    "### Normalization"
   ]
  },
  {
   "cell_type": "code",
   "execution_count": null,
   "metadata": {
    "execution": {
     "iopub.execute_input": "2022-01-15T08:41:59.438151Z",
     "iopub.status.busy": "2022-01-15T08:41:59.437604Z",
     "iopub.status.idle": "2022-01-15T08:41:59.45369Z",
     "shell.execute_reply": "2022-01-15T08:41:59.45286Z",
     "shell.execute_reply.started": "2022-01-15T08:41:59.438112Z"
    },
    "executionInfo": {
     "elapsed": 22,
     "status": "ok",
     "timestamp": 1642797533571,
     "user": {
      "displayName": "Michele Russo",
      "photoUrl": "https://lh3.googleusercontent.com/a-/AOh14GhyAOV7v4rD3SsSLhmGKIAPUCp5S_U_b_Max0XoRw=s64",
      "userId": "05058015320206708993"
     },
     "user_tz": -60
    },
    "id": "wPva9NXJWla7"
   },
   "outputs": [],
   "source": [
    "X_train_raw = dataset.copy()\n",
    "\n",
    "# Normalize\n",
    "X_min = X_train_raw.min()\n",
    "X_max = X_train_raw.max()\n",
    "X_train_raw = (X_train_raw-X_min)/(X_max-X_min)"
   ]
  },
  {
   "cell_type": "markdown",
   "metadata": {
    "id": "4e86e920",
    "papermill": {
     "duration": 0.020983,
     "end_time": "2021-12-28T14:15:59.070353",
     "exception": false,
     "start_time": "2021-12-28T14:15:59.049370",
     "status": "completed"
    },
    "tags": []
   },
   "source": [
    "### Define Sequences"
   ]
  },
  {
   "cell_type": "code",
   "execution_count": null,
   "metadata": {
    "execution": {
     "iopub.execute_input": "2022-01-15T08:42:02.815457Z",
     "iopub.status.busy": "2022-01-15T08:42:02.814897Z",
     "iopub.status.idle": "2022-01-15T08:42:02.81997Z",
     "shell.execute_reply": "2022-01-15T08:42:02.818798Z",
     "shell.execute_reply.started": "2022-01-15T08:42:02.815416Z"
    },
    "executionInfo": {
     "elapsed": 20,
     "status": "ok",
     "timestamp": 1642797533571,
     "user": {
      "displayName": "Michele Russo",
      "photoUrl": "https://lh3.googleusercontent.com/a-/AOh14GhyAOV7v4rD3SsSLhmGKIAPUCp5S_U_b_Max0XoRw=s64",
      "userId": "05058015320206708993"
     },
     "user_tz": -60
    },
    "id": "sglDfgi5Wla8"
   },
   "outputs": [],
   "source": [
    "target_labels = dataset.columns\n",
    "window = 100\n",
    "stride = 10\n",
    "telescope = 48"
   ]
  },
  {
   "cell_type": "code",
   "execution_count": null,
   "metadata": {
    "execution": {
     "iopub.execute_input": "2022-01-15T08:42:06.219181Z",
     "iopub.status.busy": "2022-01-15T08:42:06.218478Z",
     "iopub.status.idle": "2022-01-15T08:42:06.229681Z",
     "shell.execute_reply": "2022-01-15T08:42:06.228934Z",
     "shell.execute_reply.started": "2022-01-15T08:42:06.219142Z"
    },
    "executionInfo": {
     "elapsed": 19,
     "status": "ok",
     "timestamp": 1642797533571,
     "user": {
      "displayName": "Michele Russo",
      "photoUrl": "https://lh3.googleusercontent.com/a-/AOh14GhyAOV7v4rD3SsSLhmGKIAPUCp5S_U_b_Max0XoRw=s64",
      "userId": "05058015320206708993"
     },
     "user_tz": -60
    },
    "id": "zACKD3lIWla-"
   },
   "outputs": [],
   "source": [
    "def build_sequences(df, target_labels=['pollution'], window=200, stride=20, telescope=100):\n",
    "    \n",
    "    # Sanity check to avoid runtime errors\n",
    "    assert window % stride == 0\n",
    "    dataset = []\n",
    "    labels = []\n",
    "    temp_df = df.copy().values\n",
    "    temp_label = df[target_labels].copy().values\n",
    "    padding_len = len(df)%window\n",
    "\n",
    "    if(padding_len != 0):\n",
    "        # Compute padding length\n",
    "        padding_len = window - len(df)%window\n",
    "        padding = np.zeros((padding_len,temp_df.shape[1]), dtype='float64')\n",
    "        temp_df = np.concatenate((padding,df))\n",
    "        padding = np.zeros((padding_len,temp_label.shape[1]), dtype='float64')\n",
    "        temp_label = np.concatenate((padding,temp_label))\n",
    "        assert len(temp_df) % window == 0\n",
    "\n",
    "    for idx in np.arange(0,len(temp_df)-window-telescope,stride):\n",
    "        dataset.append(temp_df[idx:idx+window])\n",
    "        labels.append(temp_label[idx+window:idx+window+telescope])\n",
    "\n",
    "    dataset = np.array(dataset)\n",
    "    labels = np.array(labels)\n",
    "    return dataset, labels"
   ]
  },
  {
   "cell_type": "code",
   "execution_count": null,
   "metadata": {
    "execution": {
     "iopub.execute_input": "2022-01-15T08:42:09.232789Z",
     "iopub.status.busy": "2022-01-15T08:42:09.231981Z",
     "iopub.status.idle": "2022-01-15T08:42:09.293392Z",
     "shell.execute_reply": "2022-01-15T08:42:09.292649Z",
     "shell.execute_reply.started": "2022-01-15T08:42:09.232738Z"
    },
    "executionInfo": {
     "elapsed": 19,
     "status": "ok",
     "timestamp": 1642797533572,
     "user": {
      "displayName": "Michele Russo",
      "photoUrl": "https://lh3.googleusercontent.com/a-/AOh14GhyAOV7v4rD3SsSLhmGKIAPUCp5S_U_b_Max0XoRw=s64",
      "userId": "05058015320206708993"
     },
     "user_tz": -60
    },
    "id": "OfHVpRLuWlbA"
   },
   "outputs": [],
   "source": [
    "X_train, y_train = build_sequences(X_train_raw, target_labels, window, stride, telescope)"
   ]
  },
  {
   "cell_type": "markdown",
   "metadata": {
    "id": "4d82f104",
    "papermill": {
     "duration": 0.020801,
     "end_time": "2021-12-28T14:15:59.319696",
     "exception": false,
     "start_time": "2021-12-28T14:15:59.298895",
     "status": "completed"
    },
    "tags": []
   },
   "source": [
    "### Define the Model"
   ]
  },
  {
   "cell_type": "code",
   "execution_count": null,
   "metadata": {
    "executionInfo": {
     "elapsed": 21,
     "status": "ok",
     "timestamp": 1642797533574,
     "user": {
      "displayName": "Michele Russo",
      "photoUrl": "https://lh3.googleusercontent.com/a-/AOh14GhyAOV7v4rD3SsSLhmGKIAPUCp5S_U_b_Max0XoRw=s64",
      "userId": "05058015320206708993"
     },
     "user_tz": -60
    },
    "id": "rHBbAJyyWlbB"
   },
   "outputs": [],
   "source": [
    "def build_univariate_model(input_shape, output_shape):\n",
    "    \n",
    "    # Build the neural network layer by layer\n",
    "    input_layer = tfkl.Input(shape=input_shape, name='Input')\n",
    "\n",
    "    layer = tfkl.Bidirectional(tfkl.GRU(64, return_sequences=True))(input_layer)\n",
    "    layer = tfkl.Conv1D(64, 3, padding='same', activation='relu')(layer)\n",
    "    layer = tfkl.MaxPool1D()(layer)\n",
    "    layer = tfkl.Bidirectional(tfkl.GRU(128, return_sequences=True))(layer)\n",
    "    layer = tfkl.Conv1D(128, 6, padding='same', activation='relu')(layer)\n",
    "    layer = tfkl.MaxPool1D()(layer)\n",
    "    layer = tfkl.Bidirectional(tfkl.GRU(256, return_sequences=True))(layer)\n",
    "    layer = tfkl.Conv1D(256, 12, padding='same', activation='relu')(layer)\n",
    "    layer = tfkl.GlobalAveragePooling1D()(layer)\n",
    "    layer = tfkl.Dropout(.25)(layer)\n",
    "    dense = tfkl.Dense(output_shape[-1]*output_shape[-2], activation='relu')(layer)\n",
    "    output_layer = tfkl.Reshape((output_shape[-2],output_shape[-1]))(dense)\n",
    "    output_layer = tfkl.Conv1D(output_shape[-1], 1, padding='same')(output_layer)\n",
    "\n",
    "    # Connect input and output through the Model class\n",
    "    model = tfk.Model(inputs=input_layer, outputs=output_layer, name='model')\n",
    "\n",
    "    # Compile the model\n",
    "    model.compile(loss=tfk.losses.MeanSquaredError(), optimizer=tfk.optimizers.Adam(), metrics=['mae'])\n",
    "\n",
    "    # Return the model\n",
    "    return model"
   ]
  },
  {
   "cell_type": "code",
   "execution_count": null,
   "metadata": {
    "execution": {
     "iopub.execute_input": "2022-01-15T08:44:48.073508Z",
     "iopub.status.busy": "2022-01-15T08:44:48.073249Z",
     "iopub.status.idle": "2022-01-15T08:44:48.078205Z",
     "shell.execute_reply": "2022-01-15T08:44:48.077301Z",
     "shell.execute_reply.started": "2022-01-15T08:44:48.07348Z"
    },
    "executionInfo": {
     "elapsed": 21,
     "status": "ok",
     "timestamp": 1642797533575,
     "user": {
      "displayName": "Michele Russo",
      "photoUrl": "https://lh3.googleusercontent.com/a-/AOh14GhyAOV7v4rD3SsSLhmGKIAPUCp5S_U_b_Max0XoRw=s64",
      "userId": "05058015320206708993"
     },
     "user_tz": -60
    },
    "id": "V2ymnMdfWlbB"
   },
   "outputs": [],
   "source": [
    "batch_size = 64\n",
    "epochs = 35"
   ]
  },
  {
   "cell_type": "code",
   "execution_count": null,
   "metadata": {
    "id": "IzGZfiE6WlbC"
   },
   "outputs": [],
   "source": [
    "for i in range(7):\n",
    "    input_shape = (X_train.shape[1],1)\n",
    "    output_shape = (y_train.shape[1],1)\n",
    "    \n",
    "    model = build_univariate_model(input_shape, output_shape)\n",
    "    \n",
    "    history = model.fit(\n",
    "        x = X_train[:,:,i],\n",
    "        y = y_train[:,:,i],\n",
    "        batch_size = batch_size,\n",
    "        epochs = epochs,\n",
    "        validation_split=.1,\n",
    "        callbacks = [\n",
    "            tfk.callbacks.ReduceLROnPlateau(monitor='val_loss', mode='min', patience=10, factor=0.5, min_lr=1e-5)\n",
    "        ]\n",
    "    ).history\n",
    "    \n",
    "    model.save('../Outputs/Univariates/univariate_' + dataset.columns[i] + '.hdf5')"
   ]
  }
 ],
 "metadata": {
  "colab": {
   "collapsed_sections": [],
   "name": "Model - Univariate.ipynb",
   "provenance": []
  },
  "kernelspec": {
   "display_name": "Python 3 (ipykernel)",
   "language": "python",
   "name": "python3"
  },
  "language_info": {
   "codemirror_mode": {
    "name": "ipython",
    "version": 3
   },
   "file_extension": ".py",
   "mimetype": "text/x-python",
   "name": "python",
   "nbconvert_exporter": "python",
   "pygments_lexer": "ipython3",
   "version": "3.8.3"
  }
 },
 "nbformat": 4,
 "nbformat_minor": 1
}
